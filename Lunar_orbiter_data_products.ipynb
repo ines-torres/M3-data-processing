{
 "cells": [
  {
   "cell_type": "markdown",
   "id": "70162f2b",
   "metadata": {},
   "source": [
    "# Lunar orbiter data products\n"
   ]
  },
  {
   "cell_type": "markdown",
   "id": "1f21a903",
   "metadata": {},
   "source": [
    "The data contained in the RFL_data and LOC_data folders of the jupyter notebook comes from the _Lunar Orbiter Data Explorer_ website : https://ode.rsl.wustl.edu/moon/indexProductSearch.aspx\n",
    "\n",
    "**Summary :**\n",
    "\n",
    "1. [Select the data sets](1) <br>\n",
    "2. [Download the location data](2) <br>\n",
    "3. [Download the reflectance data](3) <br>\n"
   ]
  },
  {
   "cell_type": "markdown",
   "id": "68d73745",
   "metadata": {},
   "source": [
    "<a id=\"1\"></a>\n",
    "## 1. Select the data sets\n",
    "\n",
    "* Reflectance data is inside the **CALIMG** data : <br>\n",
    "Select ISRO's Chandrayaan-1 > M3 > Calibrated data > Calibrated Image Version 1 <br>\n",
    "<br>\n",
    "* Location data is inside the **REFIMG** data : <br>\n",
    "Select ISRO's Chandrayaan-1 > M3 > Derived data > Reflectance Image"
   ]
  },
  {
   "cell_type": "markdown",
   "id": "a60e2384",
   "metadata": {},
   "source": [
    "![](notebook_img/dataset_selection.png)"
   ]
  },
  {
   "cell_type": "markdown",
   "id": "b881cb02",
   "metadata": {},
   "source": [
    "<a id=\"2\"></a>\n",
    "## 2. Download the location data\n",
    "\n",
    "Download name_of_the_file_v01**_loc.hdr** <br>\n",
    "Download name_of_the_file_v01**_loc.img**"
   ]
  },
  {
   "cell_type": "markdown",
   "id": "4d9b1b90",
   "metadata": {},
   "source": [
    "![title](notebook_img/LOC_selection.png)"
   ]
  },
  {
   "cell_type": "markdown",
   "id": "5a6beb5d",
   "metadata": {},
   "source": [
    "<a id=\"3\"></a>\n",
    "## 3. Download the reflectance data\n",
    "\n",
    "Download name_of_the_file_v01**_rfl.hdr** <br>\n",
    "Download name_of_the_file_v01**_rfl.img**"
   ]
  },
  {
   "cell_type": "markdown",
   "id": "77e7a920",
   "metadata": {},
   "source": [
    "![title](notebook_img/RFL_selection.png)"
   ]
  }
 ],
 "metadata": {
  "kernelspec": {
   "display_name": "Python 3 (ipykernel)",
   "language": "python",
   "name": "python3"
  },
  "language_info": {
   "codemirror_mode": {
    "name": "ipython",
    "version": 3
   },
   "file_extension": ".py",
   "mimetype": "text/x-python",
   "name": "python",
   "nbconvert_exporter": "python",
   "pygments_lexer": "ipython3",
   "version": "3.9.9"
  }
 },
 "nbformat": 4,
 "nbformat_minor": 5
}
