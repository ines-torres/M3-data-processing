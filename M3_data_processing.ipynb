{
 "cells": [
  {
   "cell_type": "markdown",
   "id": "335403a6",
   "metadata": {},
   "source": [
    "# M3 data processing\n",
    "\n",
    "This jupyter notebook is for processing M3 data.\n",
    "\n",
    "**Summary :**\n",
    "\n",
    "1. [Install gdal and other packages](#1) <br>\n",
    "2. [Define folder paths and file names](#2) <br>\n",
    "    2.1 [Folder paths](#2.1) <br>\n",
    "    2.2 [File names](#2.2) <br>\n",
    "3. [Read the dataset information](#3) <br>\n",
    "    3.1 [Methods and functions to gather information from the dataset](#3.1) <br>\n",
    "4. [Crop the dataset (if needed)](#4) <br>\n",
    "    4.1. [Check if we need to crop the dataset](#4.1) <br>\n",
    "    4.2. [Crop the dataset](#4.2) <br>\n",
    "    4.3. [Save the new dataset as an array](#4.3) <br>\n",
    "5. [Write and save a reflectance matrix](#5) <br>\n",
    "    5.1. [Useful functions to access the pixel informations of the new dataset](#5.1) <br>\n",
    "    5.2. [Write and save a 1578,86nm reflectance matrix](#5.2) <br>\n",
    "    5.3. [Create a reflectance matrix at 1578.86 nm](#5.3) <br>\n",
    "    5.4. [Read the file obtained](#5.4) <br>\n",
    "6. [Derive the band depth](#6) <br>\n",
    "7. [Derive the integrated band depth (IBD)](#7) <br>\n",
    "8. [Write and save IBD1000 and IBD2000 matrix](#8) <br>\n",
    "    8.1. [Define IBD1000 and IBD2000](#8.1) <br>\n",
    "    8.2. [Create an IBD1000 matrix](#8.2) <br>\n",
    "    8.3. [Read the IBD1000 matrix](#8.3) <br>\n",
    "    8.4. [Create an IBD2000 matrix](#8.4) <br>\n",
    "    8.5. [Read the IBD2000 matrix](#8.5) <br>\n",
    "9. [Generate the rasters](#9) <br>\n",
    "    9.1. [Functions we will use](#9.1) <br>\n",
    "    9.2. [Generate the reflectance 1580nm raster](#9.2) <br>\n",
    "    9.3. [Generate the IBD1000 raster](#9.3) <br>\n",
    "    9.4. [Generate the IBD2000 raster](#9.4) <br>\n",
    "    9.5. [Print the image obtained](#9.5) <br>\n",
    "\n"
   ]
  },
  {
   "cell_type": "markdown",
   "id": "643f662a",
   "metadata": {},
   "source": [
    "<a id=\"1\"></a>\n",
    "## 1. Install gdal and other packages\n"
   ]
  },
  {
   "attachments": {},
   "cell_type": "markdown",
   "id": "dba1dc5d",
   "metadata": {},
   "source": [
    "The language used in the script is Python 3.9.16\n",
    "\n",
    "Steps from section 1 are for installing the packages needed to run the code.\n",
    "\n",
    "Here, we use 'pip' to install the packages (it is available in my virtual environment), but you might use 'conda' or 'brew' depending on your own environment."
   ]
  },
  {
   "cell_type": "code",
   "execution_count": 7,
   "id": "0e912ff9",
   "metadata": {},
   "outputs": [
    {
     "name": "stdout",
     "output_type": "stream",
     "text": [
      "Requirement already satisfied: numpy in /opt/anaconda3/envs/m3-repo/lib/python3.9/site-packages (1.23.5)\n",
      "Note: you may need to restart the kernel to use updated packages.\n"
     ]
    }
   ],
   "source": [
    "pip install numpy"
   ]
  },
  {
   "cell_type": "code",
   "execution_count": 8,
   "id": "c7564ac0",
   "metadata": {},
   "outputs": [
    {
     "name": "stdout",
     "output_type": "stream",
     "text": [
      "Requirement already satisfied: matplotlib in /opt/anaconda3/envs/m3-repo/lib/python3.9/site-packages (3.7.0)\n",
      "Requirement already satisfied: contourpy>=1.0.1 in /opt/anaconda3/envs/m3-repo/lib/python3.9/site-packages (from matplotlib) (1.0.5)\n",
      "Requirement already satisfied: numpy>=1.20 in /opt/anaconda3/envs/m3-repo/lib/python3.9/site-packages (from matplotlib) (1.23.5)\n",
      "Requirement already satisfied: fonttools>=4.22.0 in /opt/anaconda3/envs/m3-repo/lib/python3.9/site-packages (from matplotlib) (4.25.0)\n",
      "Requirement already satisfied: importlib-resources>=3.2.0 in /opt/anaconda3/envs/m3-repo/lib/python3.9/site-packages (from matplotlib) (5.2.0)\n",
      "Requirement already satisfied: packaging>=20.0 in /opt/anaconda3/envs/m3-repo/lib/python3.9/site-packages (from matplotlib) (22.0)\n",
      "Requirement already satisfied: pyparsing>=2.3.1 in /opt/anaconda3/envs/m3-repo/lib/python3.9/site-packages (from matplotlib) (3.0.9)\n",
      "Requirement already satisfied: python-dateutil>=2.7 in /opt/anaconda3/envs/m3-repo/lib/python3.9/site-packages (from matplotlib) (2.8.2)\n",
      "Requirement already satisfied: pillow>=6.2.0 in /opt/anaconda3/envs/m3-repo/lib/python3.9/site-packages (from matplotlib) (9.4.0)\n",
      "Requirement already satisfied: cycler>=0.10 in /opt/anaconda3/envs/m3-repo/lib/python3.9/site-packages (from matplotlib) (0.11.0)\n",
      "Requirement already satisfied: kiwisolver>=1.0.1 in /opt/anaconda3/envs/m3-repo/lib/python3.9/site-packages (from matplotlib) (1.4.4)\n",
      "Requirement already satisfied: zipp>=3.1.0 in /opt/anaconda3/envs/m3-repo/lib/python3.9/site-packages (from importlib-resources>=3.2.0->matplotlib) (3.11.0)\n",
      "Requirement already satisfied: six>=1.5 in /opt/anaconda3/envs/m3-repo/lib/python3.9/site-packages (from python-dateutil>=2.7->matplotlib) (1.16.0)\n",
      "Note: you may need to restart the kernel to use updated packages.\n"
     ]
    }
   ],
   "source": [
    "pip install matplotlib"
   ]
  },
  {
   "cell_type": "code",
   "execution_count": 9,
   "id": "6c376fe7",
   "metadata": {},
   "outputs": [
    {
     "name": "stdout",
     "output_type": "stream",
     "text": [
      "Requirement already satisfied: gdal in /opt/anaconda3/envs/m3-repo/lib/python3.9/site-packages (3.6.0)\n",
      "Note: you may need to restart the kernel to use updated packages.\n"
     ]
    }
   ],
   "source": [
    "pip install gdal"
   ]
  },
  {
   "cell_type": "code",
   "execution_count": 10,
   "id": "314d7c44",
   "metadata": {},
   "outputs": [
    {
     "name": "stdout",
     "output_type": "stream",
     "text": [
      "<module 'osgeo.gdal' from '/opt/anaconda3/envs/m3-repo/lib/python3.9/site-packages/osgeo/gdal.py'> \n",
      " <module 'osgeo.osr' from '/opt/anaconda3/envs/m3-repo/lib/python3.9/site-packages/osgeo/osr.py'> \n",
      " <module 'osgeo.ogr' from '/opt/anaconda3/envs/m3-repo/lib/python3.9/site-packages/osgeo/ogr.py'>\n"
     ]
    }
   ],
   "source": [
    "## Import numpy and matplotlib :\n",
    "import numpy as np\n",
    "import matplotlib.pyplot as plt\n",
    "\n",
    "## Imports python GDAL and exits the program if the modules are not found :\n",
    "import sys, os \n",
    "\n",
    "try:\n",
    "    from osgeo import gdal, osr, ogr\n",
    "    print(gdal,'\\n', osr, '\\n', ogr) # gdal, osr and ogr are in the osgeo directory\n",
    "except:\n",
    "    sys.exit('ERROR: cannot find GDAL/OGR modules')"
   ]
  },
  {
   "cell_type": "code",
   "execution_count": 11,
   "id": "6d405aae",
   "metadata": {},
   "outputs": [
    {
     "name": "stdout",
     "output_type": "stream",
     "text": [
      "3060000\n"
     ]
    }
   ],
   "source": [
    "## Check which Version of GDAL/OGR is installed :\n",
    "\n",
    "version_num = int(gdal.VersionInfo('VERSION_NUM'))\n",
    "print(version_num)\n",
    "if version_num < 1100000:\n",
    "    sys.exit('ERROR: Python bindings of GDAL 1.10 or later required')"
   ]
  },
  {
   "cell_type": "code",
   "execution_count": 12,
   "id": "c251f7ff",
   "metadata": {},
   "outputs": [
    {
     "data": {
      "text/plain": [
       "7"
      ]
     },
     "execution_count": 12,
     "metadata": {},
     "output_type": "execute_result"
    }
   ],
   "source": [
    "## Install the drivers :\n",
    "\n",
    "# Charge drivers to use them.\n",
    "# For charging all drivers at once (for reading a raster, not writing), use :\n",
    "gdal.AllRegister()\n",
    "\n",
    "# Create a driver\n",
    "driver = gdal.GetDriverByName('HFA') \n",
    "# This driver is built-in by default GDAL supports Erdas Imagine .img format for read access and write.\n",
    "\n",
    "# Save it :\n",
    "driver.Register()"
   ]
  },
  {
   "cell_type": "markdown",
   "id": "2cafed59",
   "metadata": {},
   "source": [
    "<a id=\"2\"></a>\n",
    "## 2. Define folder paths and file names :"
   ]
  },
  {
   "cell_type": "markdown",
   "id": "af4e5707",
   "metadata": {},
   "source": [
    "<a id=\"2.1\"></a>\n",
    "### 2.1. Folder paths :\n",
    "You'll need to change the rootpath when working on your own computer."
   ]
  },
  {
   "cell_type": "code",
   "execution_count": 13,
   "id": "e22c7721",
   "metadata": {},
   "outputs": [],
   "source": [
    "## The root path of your folder (where you downloaded the jupyter notebook):\n",
    "rootpath = \"/Users/ines.torres/Desktop/Apollo_Basin/jupyter_notebook/\"\n",
    "\n",
    "## Different folders we'll use :\n",
    "RFLfolderpath = rootpath+\"RFL_data\"\n",
    "LOCfolderpath = rootpath+\"LOC_data\"\n",
    "Matrixfolderpath = rootpath+\"generated_matrix\"\n",
    "Rasterfolderpath = rootpath+\"generated_rasters\""
   ]
  },
  {
   "cell_type": "code",
   "execution_count": 14,
   "id": "e9aea154",
   "metadata": {},
   "outputs": [
    {
     "name": "stdout",
     "output_type": "stream",
     "text": [
      "Content of the reflectance folder (RLF_data) :\n",
      "\n",
      "ls: /Users/ines.torres/Desktop/Apollo_Basin/jupyter_notebook/RFL_data: No such file or directory\n",
      "\n",
      "Content of the location folder (LOC_files) :\n",
      "\n",
      "ls: /Users/ines.torres/Desktop/Apollo_Basin/jupyter_notebook/LOC_data: No such file or directory\n"
     ]
    }
   ],
   "source": [
    "print('Content of the reflectance folder (RLF_data) :\\n')\n",
    "!ls '/Users/ines.torres/Desktop/Apollo_Basin/jupyter_notebook/RFL_data'\n",
    "\n",
    "print('\\nContent of the location folder (LOC_files) :\\n')\n",
    "!ls \"/Users/ines.torres/Desktop/Apollo_Basin/jupyter_notebook/LOC_data\""
   ]
  },
  {
   "cell_type": "markdown",
   "id": "aff828d1",
   "metadata": {},
   "source": [
    "<a id=\"2.2\"></a>\n",
    "### 2.2. File names :\n",
    "\n",
    "Define the name of the file we want to create a raster with.\n",
    "\n",
    "M3 products have the following file names:"
   ]
  },
  {
   "cell_type": "raw",
   "id": "5b814538",
   "metadata": {},
   "source": [
    "M3xyyyymmddThhmmss_V01_ttt.xxx\n",
    "\n",
    "where:\n",
    "\n",
    "x = imaging mode :\n",
    "    G = global mode\n",
    "    T = target mode\n",
    "\n",
    "yyyy = year of the time stamp from the first image frame of the image cube\n",
    "mm = month of the time stamp from the first image frame of the image cube\n",
    "dd = day of the time stamp from the first image frame of the image cube\n",
    "hh = hour in UTC of the time stamp from the first frame of the image cube\n",
    "mm = minute within in the hour in UTC of the time stamp from the first frame of the image cube\n",
    "ss = second within the minute in UTC of the time stamp from the first frame of the image cube\n",
    "\n",
    "ttt = type of data product :\n",
    "    L1B = Level 1B (.LBL)\n",
    "    RDN = Spectral Radiance data (.IMG or .HDR)\n",
    "    LOC = Pixel-located data (.IMG or .HDR)\n",
    "    OBS = Observation geometry data (.IMG or .HDR)\n",
    "    TIM = Observation timing data (.TAB)\n",
    "\n",
    "xxx = file name extension :\n",
    "    IMG = image object\n",
    "    HDR = detached header file\n",
    "    TAB = ASCII data table"
   ]
  },
  {
   "cell_type": "markdown",
   "id": "91322309",
   "metadata": {},
   "source": [
    "Info available on the website :\n",
    "https://ode.rsl.wustl.edu/mars/pagehelp/Content/Missions_Instruments/ISRO_Chandrayaan-1/M3/CALIMG.htm"
   ]
  },
  {
   "cell_type": "code",
   "execution_count": 15,
   "id": "dc7052ee",
   "metadata": {},
   "outputs": [
    {
     "name": "stdout",
     "output_type": "stream",
     "text": [
      "Which file do you want to convert into a raster ?\n",
      "\n"
     ]
    }
   ],
   "source": [
    "print('Which file do you want to convert into a raster ?\\n')\n",
    "\n",
    "file = input('Your answer - with the M3xyyyymmddThhmmss format: ')"
   ]
  },
  {
   "cell_type": "markdown",
   "id": "c18d7a5b",
   "metadata": {},
   "source": [
    "Finding the corresponding file in the reflectance and location folders :"
   ]
  },
  {
   "cell_type": "code",
   "execution_count": 16,
   "id": "b045a92c",
   "metadata": {},
   "outputs": [],
   "source": [
    "# Reflectance data :\n",
    "RFLDATAfile_name = file+'_V01_RFL.IMG' #\"M3G20090718T054612_V01_RFL.IMG\"\n",
    "\n",
    "# (Moon) location of the reflectance data\n",
    "LOCfile_name = file+'_V01_LOC.IMG'  #\"M3G20090718T054612_V01_LOC.IMG\"  "
   ]
  },
  {
   "cell_type": "markdown",
   "id": "2b24a29f",
   "metadata": {},
   "source": [
    "Name of the reflectance and IBD matrix we will create :"
   ]
  },
  {
   "cell_type": "code",
   "execution_count": 17,
   "id": "c580f126",
   "metadata": {},
   "outputs": [],
   "source": [
    "# Reflectance matrix we'll create :\n",
    "#RFLfile_name = \"no_offset_rfl1580_M3G20090718T054612.txt\"\n",
    "RFLfile_name = file+'_RFL1580.txt'  #\"M3G20090718T054612_V01_RFL1580.txt\"\n",
    "\n",
    "# IBD matrix we'll create, the first for IBD1000...\n",
    "IBD1000file_name = file+'_IBD1000.txt'  #\"M3G20090718T054612_V01_IBD1000.txt\" \n",
    "\n",
    "# ... or the second for IBD2000\n",
    "IBD2000file_name = file+'_IBD2000.txt' #\"M3G20090718T054612_V01_IBD2000.txt\""
   ]
  },
  {
   "cell_type": "markdown",
   "id": "40ad6906",
   "metadata": {},
   "source": [
    "Check if the file we chose exists in the reflectance and location folders :"
   ]
  },
  {
   "cell_type": "code",
   "execution_count": 18,
   "id": "381a9052",
   "metadata": {},
   "outputs": [
    {
     "name": "stdout",
     "output_type": "stream",
     "text": [
      "Raster reflectance path : /Users/ines.torres/Desktop/Apollo_Basin/jupyter_notebook/RFL_data/_V01_RFL.IMG \n",
      "\n",
      "Raster location path : /Users/ines.torres/Desktop/Apollo_Basin/jupyter_notebook/RFL_data/_V01_LOC.IMG \n",
      "\n",
      "Raster data type : <class 'NoneType'>\n",
      "Imposible to open \n"
     ]
    },
    {
     "name": "stderr",
     "output_type": "stream",
     "text": [
      "ERROR 4: /Users/ines.torres/Desktop/Apollo_Basin/jupyter_notebook/RFL_data/_V01_RFL.IMG: No such file or directory\n"
     ]
    },
    {
     "ename": "SystemExit",
     "evalue": "1",
     "output_type": "error",
     "traceback": [
      "An exception has occurred, use %tb to see the full traceback.\n",
      "\u001b[0;31mSystemExit\u001b[0m\u001b[0;31m:\u001b[0m 1\n"
     ]
    },
    {
     "name": "stderr",
     "output_type": "stream",
     "text": [
      "/opt/anaconda3/envs/m3-repo/lib/python3.9/site-packages/IPython/core/interactiveshell.py:3468: UserWarning: To exit: use 'exit', 'quit', or Ctrl-D.\n",
      "  warn(\"To exit: use 'exit', 'quit', or Ctrl-D.\", stacklevel=1)\n"
     ]
    }
   ],
   "source": [
    "# Read the selected raster as a dataset :\n",
    "filepath = os.path.join(RFLfolderpath,RFLDATAfile_name)\n",
    "print('Raster reflectance path :', filepath, '\\n')\n",
    "\n",
    "LOCfilepath = os.path.join(RFLfolderpath,LOCfile_name)\n",
    "print('Raster location path :', LOCfilepath, '\\n')\n",
    "\n",
    "# open the data set in read only mode :\n",
    "DATASET = gdal.Open(filepath, gdal.GA_ReadOnly)\n",
    "print('Raster data type :', type(DATASET))\n",
    "\n",
    "# The .Open() method takes 2 parameters : the path of the file and the lecture mode. \n",
    "# 2 possible constants for the lecture mode :\n",
    "GA_ReadOnly = 0\n",
    "GA_Update = 1\n",
    "# If python sends an error essage for GA_ReadOnly, you can just type its value (0)\n",
    "\n",
    "# After DATASET is charged, test if we can open the data.\n",
    "if DATASET is None:\n",
    "    print('Imposible to open',file)\n",
    "    sys.exit(1)\n",
    "\n",
    "# DATASET is a global variable :\n",
    "global DATASET"
   ]
  },
  {
   "cell_type": "markdown",
   "id": "7b275f54",
   "metadata": {},
   "source": [
    "<a id=\"3\"></a>\n",
    "## 3. Read the dataset information :"
   ]
  },
  {
   "cell_type": "markdown",
   "id": "59253fdb",
   "metadata": {},
   "source": [
    "Now that we selected the data we want to process, let's read its information.\n",
    "\n",
    "The raster has the following structure :\n",
    "* RasterYSize Lines\n",
    "* 304 (RasterXSize) Samples\n",
    "* 85 Channels or Bands\n",
    "\n",
    "See the picture below, from the Orbital Data Explorer User's Manual : https://ode.rsl.wustl.edu/moon/pagehelp/quickstartguide/index.html?m3_refimg.htm\n",
    "\n",
    "![title](notebook_img/M3_operation_modes.png)"
   ]
  },
  {
   "cell_type": "markdown",
   "id": "f7f34dca",
   "metadata": {},
   "source": [
    "<a id=\"3.1\"></a>\n",
    "### 3.1. Methods and functions to gather information from the dataset\n",
    "\n",
    "* Methods : RasterYSize, RasterXSize, RasterCount, GetMetadata\n",
    "* Functions : get_bands, get_wavelengths, band2wvl, wvl2band, goodmodulo"
   ]
  },
  {
   "cell_type": "code",
   "execution_count": null,
   "id": "0a389c35",
   "metadata": {},
   "outputs": [
    {
     "name": "stdout",
     "output_type": "stream",
     "text": [
      "XSize (Samples): 304\n",
      "YSize (Lines): 30642\n",
      "Channels (Bands): 85\n",
      "\n",
      "Metadata type : <class 'dict'>\n",
      "Metadata are : {'Band_1': '460.9900', 'Band_10': '770.4000', 'Band_11': '790.3700', 'Band_12': '810.3300', 'Band_13': '830.2900', 'Band_14': '850.2500', 'Band_15': '870.2100', 'Band_16': '890.1700', 'Band_17': '910.1400', 'Band_18': '930.1000', 'Band_19': '950.0600', 'Band_2': '500.9200', 'Band_20': '970.0200', 'Band_21': '989.9800', 'Band_22': '1009.950', 'Band_23': '1029.910', 'Band_24': '1049.870', 'Band_25': '1069.830', 'Band_26': '1089.790', 'Band_27': '1109.760', 'Band_28': '1129.720', 'Band_29': '1149.680', 'Band_3': '540.8400', 'Band_30': '1169.640', 'Band_31': '1189.600', 'Band_32': '1209.570', 'Band_33': '1229.530', 'Band_34': '1249.490', 'Band_35': '1269.450', 'Band_36': '1289.410', 'Band_37': '1309.380', 'Band_38': '1329.340', 'Band_39': '1349.300', 'Band_4': '580.7600', 'Band_40': '1369.260', 'Band_41': '1389.220', 'Band_42': '1409.190', 'Band_43': '1429.150', 'Band_44': '1449.110', 'Band_45': '1469.070', 'Band_46': '1489.030', 'Band_47': '1508.990', 'Band_48': '1528.960', 'Band_49': '1548.920', 'Band_5': '620.6900', 'Band_50': '1578.860', 'Band_51': '1618.790', 'Band_52': '1658.710', 'Band_53': '1698.630', 'Band_54': '1738.560', 'Band_55': '1778.480', 'Band_56': '1818.400', 'Band_57': '1858.330', 'Band_58': '1898.250', 'Band_59': '1938.180', 'Band_6': '660.6100', 'Band_60': '1978.100', 'Band_61': '2018.020', 'Band_62': '2057.950', 'Band_63': '2097.870', 'Band_64': '2137.800', 'Band_65': '2177.720', 'Band_66': '2217.640', 'Band_67': '2257.570', 'Band_68': '2297.490', 'Band_69': '2337.420', 'Band_7': '700.5400', 'Band_70': '2377.340', 'Band_71': '2417.260', 'Band_72': '2457.190', 'Band_73': '2497.110', 'Band_74': '2537.030', 'Band_75': '2576.960', 'Band_76': '2616.880', 'Band_77': '2656.810', 'Band_78': '2696.730', 'Band_79': '2736.650', 'Band_8': '730.4800', 'Band_80': '2776.580', 'Band_81': '2816.500', 'Band_82': '2856.430', 'Band_83': '2896.350', 'Band_84': '2936.270', 'Band_85': '2976.200', 'Band_9': '750.4400'}\n"
     ]
    }
   ],
   "source": [
    "## Some methods to gather information from our dataset :\n",
    "\n",
    "# Get the X Size, the Y Size and the number of bands of the dataset :\n",
    "print('XSize (Samples):',DATASET.RasterXSize)\n",
    "print('YSize (Lines):',DATASET.RasterYSize)\n",
    "print('Channels (Bands):',DATASET.RasterCount)\n",
    "\n",
    "# Get the Bands of the dataset :\n",
    "BANDS = DATASET.GetMetadata()\n",
    "print('\\nMetadata type :',type(BANDS))\n",
    "print('Metadata are :', BANDS)"
   ]
  },
  {
   "cell_type": "code",
   "execution_count": null,
   "id": "14220704",
   "metadata": {},
   "outputs": [
    {
     "name": "stdout",
     "output_type": "stream",
     "text": [
      "Bands : [1, 2, 3, 4, 5, 6, 7, 8, 9, 10, 11, 12, 13, 14, 15, 16, 17, 18, 19, 20, 21, 22, 23, 24, 25, 26, 27, 28, 29, 30, 31, 32, 33, 34, 35, 36, 37, 38, 39, 40, 41, 42, 43, 44, 45, 46, 47, 48, 49, 50, 51, 52, 53, 54, 55, 56, 57, 58, 59, 60, 61, 62, 63, 64, 65, 66, 67, 68, 69, 70, 71, 72, 73, 74, 75, 76, 77, 78, 79, 80, 81, 82, 83, 84, 85]\n",
      "Wavelengths : [460.99, 500.92, 540.84, 580.76, 620.69, 660.61, 700.54, 730.48, 750.44, 770.4, 790.37, 810.33, 830.29, 850.25, 870.21, 890.17, 910.14, 930.1, 950.06, 970.02, 989.98, 1009.95, 1029.91, 1049.87, 1069.83, 1089.79, 1109.76, 1129.72, 1149.68, 1169.64, 1189.6, 1209.57, 1229.53, 1249.49, 1269.45, 1289.41, 1309.38, 1329.34, 1349.3, 1369.26, 1389.22, 1409.19, 1429.15, 1449.11, 1469.07, 1489.03, 1508.99, 1528.96, 1548.92, 1578.86, 1618.79, 1658.71, 1698.63, 1738.56, 1778.48, 1818.4, 1858.33, 1898.25, 1938.18, 1978.1, 2018.02, 2057.95, 2097.87, 2137.8, 2177.72, 2217.64, 2257.57, 2297.49, 2337.42, 2377.34, 2417.26, 2457.19, 2497.11, 2537.03, 2576.96, 2616.88, 2656.81, 2696.73, 2736.65, 2776.58, 2816.5, 2856.43, 2896.35, 2936.27, 2976.2]\n"
     ]
    }
   ],
   "source": [
    "## Change the bands from a dictionary type to an array type in order to \n",
    "## have the wavelenghts and the bands sorted in a good order :\n",
    "\n",
    "# Entry variable : the dataset we want to sort\n",
    "# Return : list of bands sorted in right order \n",
    "def get_bands(dataset):\n",
    "  dictionary = dataset.GetMetadata()\n",
    "\n",
    "  ## Get the Keys (bands) :\n",
    "  listOfKeys = dictionary.keys()\n",
    "  bands = list(listOfKeys)\n",
    "\n",
    "  ## Sort the bands in the right order :\n",
    "  # From Band 2 to Band 8 :\n",
    "  for index in range (1,8) :\n",
    "    bands.insert(index,bands[index*10 + index])\n",
    "    bands.pop(index*10 + index + 1)  \n",
    "  # For the 9th Band (in position 85), it's not the same :\n",
    "  bands.insert(8,bands[-1])\n",
    "  bands.pop()\n",
    "\n",
    "  ## Change 'Band_n' into n with n as an integer :\n",
    "  bands = [ string.replace(\"Band_\",\"\") for string in bands ]\n",
    "  bands = [ int(string) for string in bands ]\n",
    "\n",
    "  return bands\n",
    "\n",
    "\n",
    "# Entry variable : the dataset we want to sort\n",
    "# Return : list of wavelengths sorted in right order\n",
    "def get_wavelengths(dataset):\n",
    "  dictionary = dataset.GetMetadata()\n",
    "\n",
    "  ## Get the Values (wavelengths) :\n",
    "  listOfValues = dictionary.values()\n",
    "  listOfValues = list(listOfValues)\n",
    "  wavelengths = [float(value) for value in listOfValues] # change the strings to floats\n",
    "\n",
    "  ## Sort the wavelengths in the right order :\n",
    "  # From Band 2 to Band 8 :\n",
    "  for index in range (1,8) :\n",
    "    wavelengths.insert(index,wavelengths[index*10 + index])\n",
    "    wavelengths.pop(index*10 + index + 1)\n",
    "  # For the 9th Band (in position 85), it's not the same :\n",
    "  wavelengths.insert(8,wavelengths[-1])\n",
    "  wavelengths.pop()\n",
    "\n",
    "  return wavelengths\n",
    "\n",
    "# Set the variable BANDS as the list of bands\n",
    "BANDS = get_bands(DATASET)\n",
    "# Set the variable WV as the list of wavelengths\n",
    "WV = get_wavelengths(DATASET)\n",
    "\n",
    "# Set these variables as globals\n",
    "global BANDS, WV\n",
    "\n",
    "print(\"Bands :\", BANDS)\n",
    "print(\"Wavelengths :\", WV)"
   ]
  },
  {
   "cell_type": "code",
   "execution_count": null,
   "id": "3a027695",
   "metadata": {},
   "outputs": [
    {
     "name": "stdout",
     "output_type": "stream",
     "text": [
      "What is the wavelength of the 3rd band ?    540.84 nm\n",
      "What is the 540.84 nm band ?    3\n"
     ]
    }
   ],
   "source": [
    "## Function that returns the wavelength when given the number of the band.\n",
    "# Entry variable : number of the band (from 1 to 85)\n",
    "# Return : wavelength value (nm)\n",
    "def band2wvl(band_number) :\n",
    "    return WV[band_number - 1]\n",
    "\n",
    "## Function that returns the band when given the wavelength.\n",
    "# Entry variable : wavelength value (nm)\n",
    "# Return : number of the band (from 1 to 85)\n",
    "def wvl2band(wvl) :\n",
    "  i = WV.index(wvl)\n",
    "  return BANDS[i]\n",
    "\n",
    "# Example :\n",
    "print('What is the wavelength of the 3rd band ?   ', band2wvl(3), 'nm')\n",
    "print('What is the 540.84 nm band ?   ', wvl2band(540.84))"
   ]
  },
  {
   "cell_type": "code",
   "execution_count": null,
   "id": "9d278b9b",
   "metadata": {},
   "outputs": [],
   "source": [
    "import math\n",
    "\n",
    "## Function that gives the angle in degrees with the good modulo :\n",
    "## longitude between -180° and +180°\n",
    "## latitude between -90° and 90°\n",
    "def goodmodulo(long, lat) :\n",
    "\n",
    "  # longitude should be between -180° and 180° :\n",
    "  if long > 180 :\n",
    "    long = -180 + (long%180)\n",
    "  if long < -180 :\n",
    "    long = 180 + (long%-180)\n",
    "\n",
    "  # latitude should be between -90° and 90° :\n",
    "  if lat > 90 :\n",
    "    lat = -90 + (lat%90)\n",
    "  if lat < -90 :\n",
    "    lat = 90 + (lat%-90)\n",
    "\n",
    "  return long,lat"
   ]
  },
  {
   "cell_type": "markdown",
   "id": "c1c48fb5",
   "metadata": {},
   "source": [
    "<a id=\"4\"></a>\n",
    "## 4. Crop the dataset - if needed"
   ]
  },
  {
   "cell_type": "markdown",
   "id": "04c6e3f3",
   "metadata": {},
   "source": [
    "<a id=\"4.1\"></a>\n",
    "### 4.1. Check if we need to crop the dataset :\n",
    "We use the _LOC file that indicates the longitude, latitude, radius for each pixel. It is located in the radiance version 01 file from the Lunar Orbiter Data website."
   ]
  },
  {
   "cell_type": "code",
   "execution_count": null,
   "id": "139605bf",
   "metadata": {},
   "outputs": [
    {
     "name": "stdout",
     "output_type": "stream",
     "text": [
      "Shape of the original longitude, latitude and radius matrix : (30642, 304) \n",
      "\n",
      "Minimum latitude : -87.58094143582018 degrees\n",
      "Maximum latitude : 55.6366955539239 degrees\n",
      "\n",
      "Easternmost longitude : 20.898446996890904 degrees\n",
      "Westernmost longitude : -160.32889258991347 degrees\n"
     ]
    }
   ],
   "source": [
    "# open the file in read only mode :\n",
    "LOCfilepath = os.path.join(LOCfolderpath,LOCfile_name)\n",
    "LOC = gdal.Open(LOCfilepath, gdal.GA_ReadOnly)\n",
    "\n",
    "lines = LOC.RasterYSize\n",
    "rows = LOC.RasterXSize\n",
    "\n",
    "# write the location data as a list of matrix 'M3_LOC' :\n",
    "M3_LOC = [np.zeros((lines,rows)) for i in range (3)]\n",
    "for i in range(1,4) :\n",
    "    band = LOC.GetRasterBand(i)\n",
    "    M3_LOC[i-1] = band.ReadAsArray()\n",
    "\n",
    "# Longitude is band 1, Latitude band 2 and radius band 3 :\n",
    "LONG_init = M3_LOC[0]\n",
    "LAT_init = M3_LOC[1]\n",
    "RAD_init = M3_LOC[2]\n",
    "\n",
    "print(\"Shape of the original longitude, latitude and radius matrix :\", LONG_init.shape, '\\n')\n",
    "\n",
    "min_long,min_lat = goodmodulo(LONG_init[-1][0],LAT_init[-1][0])\n",
    "max_long,max_lat = goodmodulo(LONG_init[0][-1],LAT_init[0][-1])\n",
    "\n",
    "print(\"Minimum latitude :\", min_lat, 'degrees')\n",
    "print(\"Maximum latitude :\", max_lat, \"degrees\\n\")\n",
    "print(\"Easternmost longitude :\", min_long,'degrees')\n",
    "print(\"Westernmost longitude :\", max_long,'degrees')\n",
    "# these values might seem strange because the imager goes from North Pole to South Pole\n",
    "# in the poles, longitude values vary widely."
   ]
  },
  {
   "cell_type": "markdown",
   "id": "c04b559a",
   "metadata": {},
   "source": [
    "Most data downloaded from the Lunar orbital data explorer website was taken from North Pole to South Pole (the satellite has a polar orbit).\n",
    "We need to crop the dataset in order to keep ONLY the data inside the Apollo Basin. Here are the values of Apollo mininum and maximum latitude, as well as easternmost and westernmost longitude :\n",
    "\n",
    "![title](notebook_img/Apollo_basin_long_lat.png)"
   ]
  },
  {
   "cell_type": "markdown",
   "id": "2be8fec1",
   "metadata": {},
   "source": [
    "<a id=\"4.2\"></a>\n",
    "### 4.2. Crop the dataset :\n",
    "\n",
    "If the values obtained above shows that your data is not only the Apollo Basin, you need to run this section to crop the dataset."
   ]
  },
  {
   "cell_type": "code",
   "execution_count": null,
   "id": "df095b18",
   "metadata": {},
   "outputs": [
    {
     "name": "stdout",
     "output_type": "stream",
     "text": [
      "Minimum and maximum line of the original raster :  (17401, 20691) \n",
      "\n",
      "Shape of the new longitude, latitude and radius matrix : (3290, 304) \n",
      "\n",
      "Minimum latitude : -44.099489016085506 degrees\n",
      "Maximum latitude : -28.146041783065574 degrees\n",
      "\n",
      "Easternmost longitude : -161.55197855827376 degrees\n",
      "Westernmost longitude : -158.84261231957066 degrees\n"
     ]
    }
   ],
   "source": [
    "## Function that selects the right zone : Apollo Basin\n",
    "\n",
    "# Entry variable : the latitude matrix of the dataset we want to cut.\n",
    "# Return : tuple with the minimum and maximum pixel line of the right zone.\n",
    "def goodlocation(lat_matrix, N_lat, S_lat):\n",
    "    i = 0\n",
    "    while lat_matrix[i][0] > N_lat :\n",
    "        i+=1\n",
    "    min_line = i\n",
    "    while lat_matrix[i][0] > S_lat :\n",
    "        i+=1\n",
    "    max_line = i\n",
    "    return min_line, max_line\n",
    "\n",
    "\n",
    "# Cut the location file such as:\n",
    "N_most_lat = -28.1    #in degrees\n",
    "S_most_lat = -44.1    #in degrees\n",
    "(min_line , max_line) = goodlocation(LAT_init, N_most_lat, S_most_lat)\n",
    "print(\"Minimum and maximum line of the original raster : \", (min_line , max_line), '\\n')\n",
    "\n",
    "# New longitude, latitude and radius matrix :\n",
    "LONG = LONG_init[min_line:max_line]\n",
    "LAT = LAT_init[min_line:max_line]\n",
    "RAD = RAD_init[min_line:max_line]\n",
    "\n",
    "# New number of lines and rows :\n",
    "(lines, rows) = LONG.shape\n",
    "\n",
    "print('Shape of the new longitude, latitude and radius matrix :', LONG.shape, '\\n')\n",
    "\n",
    "min_long,min_lat = goodmodulo(LONG[-1][0],LAT[-1][0])\n",
    "max_long,max_lat = goodmodulo(LONG[0][-1],LAT[0][-1])\n",
    "\n",
    "print(\"Minimum latitude :\", min_lat, 'degrees')\n",
    "print(\"Maximum latitude :\", max_lat, \"degrees\\n\")\n",
    "print(\"Easternmost longitude :\", min_long,'degrees')\n",
    "print(\"Westernmost longitude :\", max_long,'degrees')"
   ]
  },
  {
   "cell_type": "markdown",
   "id": "4080a60b",
   "metadata": {},
   "source": [
    "<a id=\"4.3\"></a>\n",
    "### 4.3. Save the new dataset as an array :"
   ]
  },
  {
   "cell_type": "code",
   "execution_count": null,
   "id": "f0e0b8db",
   "metadata": {},
   "outputs": [],
   "source": [
    "## Work on a shorter dataset :\n",
    "\n",
    "# let's shorten the dataset Y size, and just take the values between min_line and max_line \n",
    "# then, YSize/lines = 760 and XSize/columns = 305 : \n",
    "M3_IMAGE = [np.zeros((lines,rows)) for i in range (85)]\n",
    "\n",
    "# the n-th element of the list bands is the reflectance matrix of the n-th band :\n",
    "for i in range(1,86) :\n",
    "  band = DATASET.GetRasterBand(i)\n",
    "  M3_IMAGE[i-1] = band.ReadAsArray()[min_line : max_line]\n",
    "\n",
    "global M3_IMAGE"
   ]
  },
  {
   "cell_type": "code",
   "execution_count": null,
   "id": "f00377e4",
   "metadata": {},
   "outputs": [
    {
     "name": "stdout",
     "output_type": "stream",
     "text": [
      "How many bands has one M3 image ? 85\n",
      "Shape of one reflectance matrix : (3290, 304)\n",
      "\n",
      "For example, the 3rd band has the following reflectance matrix :\n",
      " [[0.07294366 0.06754027 0.06492262 ... 0.05801738 0.05753946 0.05917937]\n",
      " [0.07139561 0.0652006  0.06402391 ... 0.06042344 0.0593045  0.06045548]\n",
      " [0.07231093 0.06695328 0.06355301 ... 0.06042605 0.06225126 0.06168271]\n",
      " ...\n",
      " [0.03818596 0.03411992 0.03409585 ... 0.03570092 0.03688142 0.03678827]\n",
      " [0.03805674 0.03401018 0.03472942 ... 0.03466609 0.03651509 0.03566183]\n",
      " [0.03962372 0.037066   0.03615788 ... 0.03516749 0.03619048 0.03533891]]\n"
     ]
    }
   ],
   "source": [
    "# Gather some information on the dataset\n",
    "print(\"How many bands has one M3 image ?\", len(M3_IMAGE))\n",
    "print(\"Shape of one reflectance matrix :\", M3_IMAGE[0].shape)\n",
    "print(\"\\nFor example, the 3rd band has the following reflectance matrix :\\n\", M3_IMAGE[2])"
   ]
  },
  {
   "cell_type": "markdown",
   "id": "67fe7b6c",
   "metadata": {},
   "source": [
    "<a id=\"5\"></a>\n",
    "## 5. Write and save a reflectance matrix"
   ]
  },
  {
   "cell_type": "markdown",
   "id": "3e741ecb",
   "metadata": {},
   "source": [
    "<a id=\"5.1\"></a>\n",
    "### 5.1 Useful functions to access the pixel informations of the new dataset\n",
    "\n",
    "You'll find :\n",
    "* Functions : raster2array, band2rfl, wvl2rfl\n",
    "* Plot of the reflectance spectrum for one pixel."
   ]
  },
  {
   "cell_type": "code",
   "execution_count": null,
   "id": "1055bada",
   "metadata": {},
   "outputs": [
    {
     "name": "stdout",
     "output_type": "stream",
     "text": [
      "Number of lines (X) : 3290\n",
      "Number of samples (Y) : 304\n"
     ]
    }
   ],
   "source": [
    "## Read the raster as an array :\n",
    "\n",
    "# Entry variables : raster dataset, band number.\n",
    "# Return : the band as an array.\n",
    "def raster2array(dataset, band_number):\n",
    "  return dataset[band_number - 1]\n",
    "\n",
    "\n",
    "# This raster is an array of size : 11738 (X Size, Lines) x 304 (Y Size, Samples)\n",
    "# When reading a raster as an array (a matrix), lines are X and columns (or samples) are Y.\n",
    "print('Number of lines (X) :',len(raster2array(M3_IMAGE,3)))\n",
    "print('Number of samples (Y) :',len(raster2array(M3_IMAGE,3)[0]))"
   ]
  },
  {
   "cell_type": "code",
   "execution_count": null,
   "id": "c7637f56",
   "metadata": {},
   "outputs": [
    {
     "name": "stdout",
     "output_type": "stream",
     "text": [
      "Reflectance of the pixel (250, 250) of the 3rd band : 0.062349465 %\n",
      "Reflectance of the pixel (250, 250) at 540.84 nm : 0.062349465 %\n"
     ]
    }
   ],
   "source": [
    "## Get the reflectance of one pixel depending on the band number, or the wavelength :\n",
    "\n",
    "# Position of the pixel we are working with :\n",
    "X = 250   # lines from 0 to 337\n",
    "Y = 250   # samples 0 to 303 \n",
    "\n",
    "\n",
    "# Entry variables : band_number;  (x,y) position of the pixel\n",
    "# Return : the reflectance in % of the pixel of the band_number \n",
    "def band2rfl(band_number, x, y) :\n",
    "  return raster2array(M3_IMAGE,band_number)[x][y]\n",
    "\n",
    "\n",
    "# Entry variables : position of the pixel (X and Y), wavelength wv\n",
    "# Return : the reflectance in % of the (X,Y) pixel at wv\n",
    "def wvl2rfl(wv, x, y) :\n",
    "  band_number = WV.index(wv) + 1\n",
    "  return raster2array(M3_IMAGE,band_number)[x][y]\n",
    "\n",
    "# Each value is the reflectance of a pixel in % :\n",
    "# For example, the reflectance of the pixel in position (400,50) is :\n",
    "print(\"Reflectance of the pixel\", (X,Y) ,\"of the 3rd band :\", band2rfl(3, X, Y), '%')\n",
    "print(\"Reflectance of the pixel\", (X,Y), \"at 540.84 nm :\", wvl2rfl(540.84, X, Y), '%')"
   ]
  },
  {
   "cell_type": "markdown",
   "id": "f0719960",
   "metadata": {},
   "source": [
    "Now that we can obtain the relectance of each pixel, let's produce the spectrums of each pixel :"
   ]
  },
  {
   "cell_type": "code",
   "execution_count": null,
   "id": "cc603d4d",
   "metadata": {},
   "outputs": [
    {
     "name": "stdout",
     "output_type": "stream",
     "text": [
      "Bands without errors :\n",
      " [3, 4, 5, 6, 7, 8, 9, 10, 11, 12, 13, 14, 15, 16, 17, 18, 19, 20, 21, 22, 23, 24, 25, 26, 27, 28, 29, 30, 31, 32, 33, 34, 35, 36, 37, 38, 39, 40, 41, 42, 43, 44, 45, 46, 47, 48, 49, 50, 51, 52, 53, 54, 55, 56, 57, 58, 59, 60, 61, 62, 63, 64, 65, 66, 67, 68, 69, 70, 71, 72, 73, 74, 75, 76, 77, 78, 79, 80, 81, 82, 83, 84, 85] \n",
      " Length : 83\n",
      "\n",
      "Wavelengths without errors :\n",
      " [540.84, 580.76, 620.69, 660.61, 700.54, 730.48, 750.44, 770.4, 790.37, 810.33, 830.29, 850.25, 870.21, 890.17, 910.14, 930.1, 950.06, 970.02, 989.98, 1009.95, 1029.91, 1049.87, 1069.83, 1089.79, 1109.76, 1129.72, 1149.68, 1169.64, 1189.6, 1209.57, 1229.53, 1249.49, 1269.45, 1289.41, 1309.38, 1329.34, 1349.3, 1369.26, 1389.22, 1409.19, 1429.15, 1449.11, 1469.07, 1489.03, 1508.99, 1528.96, 1548.92, 1578.86, 1618.79, 1658.71, 1698.63, 1738.56, 1778.48, 1818.4, 1858.33, 1898.25, 1938.18, 1978.1, 2018.02, 2057.95, 2097.87, 2137.8, 2177.72, 2217.64, 2257.57, 2297.49, 2337.42, 2377.34, 2417.26, 2457.19, 2497.11, 2537.03, 2576.96, 2616.88, 2656.81, 2696.73, 2736.65, 2776.58, 2816.5, 2856.43, 2896.35, 2936.27, 2976.2] \n",
      " Length : 83\n",
      "\n",
      "Reflectances of the (0,0) pixel for all the bands :\n",
      " [0.062349465, 0.06836328, 0.072433464, 0.07639509, 0.07988634, 0.0822765, 0.08436153, 0.08599671, 0.087672725, 0.08886055, 0.090103865, 0.09174783, 0.09193064, 0.09392126, 0.09577272, 0.09736806, 0.09781984, 0.0993674, 0.10165121, 0.10397313, 0.106260955, 0.10856317, 0.110717155, 0.11296492, 0.11482103, 0.11656263, 0.118296154, 0.11995191, 0.12123417, 0.123125896, 0.12407959, 0.12588073, 0.12755208, 0.1282575, 0.12949197, 0.1304705, 0.13273035, 0.13387159, 0.13445882, 0.13558535, 0.13735647, 0.13838941, 0.13968256, 0.1401082, 0.14217173, 0.14277549, 0.14428449, 0.14641203, 0.14851919, 0.15027769, 0.15208088, 0.15379626, 0.15627025, 0.15869232, 0.16038199, 0.16233341, 0.16386832, 0.16637282, 0.16829804, 0.17134081, 0.17319065, 0.17606609, 0.1788245, 0.18172298, 0.18452232, 0.18791679, 0.19111134, 0.19381258, 0.19758533, 0.20111409, 0.2042067, 0.20798573, 0.21143194, 0.21495946, 0.21822616, 0.22151242, 0.22770429, 0.22961488, 0.23263304, 0.24054325, 0.24372251, 0.24592273, 0.2543454] \n",
      " Length : 83\n"
     ]
    }
   ],
   "source": [
    "## Create a function that returns a list of reflectances for one pixel in the X,Y position :\n",
    "\n",
    "# Entry : x,y position of the pixel (X : from 0 to 11737) (Y : from 0 to 303) \n",
    "# Return : 3 lists : - bands for which reflectence is not -999.0\n",
    "#                    - wavelengths for which reflectance is not -999.0\n",
    "#                    - reflectances for each band (when reflectance is not -999.0)              \n",
    "def rfl_spectrum(x, y) :\n",
    "  band = []\n",
    "  wv = []\n",
    "  rfl = []\n",
    "  for n in BANDS :\n",
    "    reflectance = band2rfl(n, x, y)\n",
    "    # If rfl is different from -999, add it to the list :\n",
    "    if reflectance != -999.0 :\n",
    "      band.append(n)\n",
    "      wv.append(WV[n-1])\n",
    "      rfl.append(reflectance)\n",
    "  return band , wv , rfl\n",
    "\n",
    "# Set the variables BANDS, WV, RFL as the new bands wavelengths and reflectances without errors.\n",
    "BANDS_no_error, WV_no_error, RFL_no_error = rfl_spectrum(X,Y)[0], rfl_spectrum(X,Y)[1], rfl_spectrum(X,Y)[2]\n",
    "\n",
    "global BANDS_no_error, WV_no_error, RFL_no_error\n",
    "\n",
    "# For example : list of radiances of the (0,0) pixel for all the bands.\n",
    "print('Bands without errors :\\n',BANDS_no_error,'\\n' ,'Length :',len(BANDS_no_error))\n",
    "print('\\nWavelengths without errors :\\n',WV_no_error,'\\n','Length :' ,len(WV_no_error))\n",
    "print('\\nReflectances of the (0,0) pixel for all the bands :\\n',RFL_no_error,'\\n','Length :', len(RFL_no_error))"
   ]
  },
  {
   "cell_type": "code",
   "execution_count": null,
   "id": "72edd669",
   "metadata": {},
   "outputs": [
    {
     "data": {
      "image/png": "[encoded data removed]",
      "text/plain": [
       "<Figure size 432x288 with 1 Axes>"
      ]
     },
     "metadata": {
      "needs_background": "light"
     },
     "output_type": "display_data"
    },
    {
     "data": {
      "image/png": "[encoded data removed]",
      "text/plain": [
       "<Figure size 432x288 with 1 Axes>"
      ]
     },
     "metadata": {
      "needs_background": "light"
     },
     "output_type": "display_data"
    }
   ],
   "source": [
    "## Plot the graph (Bands, Reflectances):\n",
    "plt.plot(BANDS_no_error, RFL_no_error)\n",
    "plt.xlabel('Bands')\n",
    "plt.ylabel('Reflectance (%)')\n",
    "plt.title('Spectra of the pixel ({},{}) \\n\\n (a)'.format(X,Y))\n",
    "plt.show()\n",
    "\n",
    "## Plot the graph (Wavelengths, Reflectances):\n",
    "plt.plot(WV_no_error , RFL_no_error)\n",
    "plt.xlabel('Wavelengths (nm)')\n",
    "plt.ylabel('Reflectance (%)')\n",
    "plt.title('\\n(b)')\n",
    "plt.show()"
   ]
  },
  {
   "cell_type": "markdown",
   "id": "af60cb07",
   "metadata": {},
   "source": [
    "<a id=\"5.2\"></a>\n",
    "### 5.2. Write and save a 1578,86nm reflectance matrix :\n",
    "\n",
    "Example of a reflectance matrix :"
   ]
  },
  {
   "cell_type": "code",
   "execution_count": null,
   "id": "a2361fbf",
   "metadata": {},
   "outputs": [
    {
     "name": "stdout",
     "output_type": "stream",
     "text": [
      "Reflectance matrix of the 50th band :\n",
      " [[0.16662729 0.1585196  0.1559744  ... 0.13517365 0.13563527 0.13972704]\n",
      " [0.1636377  0.1553238  0.15331706 ... 0.13847885 0.13837484 0.14057837]\n",
      " [0.16363361 0.15713747 0.15198661 ... 0.13893017 0.14200945 0.14185262]\n",
      " ...\n",
      " [0.09804436 0.09318689 0.09436197 ... 0.09652922 0.09686357 0.09739467]\n",
      " [0.09974795 0.09565569 0.09677351 ... 0.09512292 0.09482779 0.09584713]\n",
      " [0.10559211 0.10132907 0.09936319 ... 0.09507068 0.09448478 0.09436557]] \n",
      "\n",
      "Shape : (3290, 304)\n"
     ]
    }
   ],
   "source": [
    "# For example :\n",
    "print('Reflectance matrix of the 50th band :\\n', M3_IMAGE[49] ,'\\n\\nShape :', M3_IMAGE[49].shape)"
   ]
  },
  {
   "cell_type": "markdown",
   "id": "9de39736",
   "metadata": {},
   "source": [
    "<a id=\"5.3\"></a>\n",
    "### 5.3. Create a reflectance matrix at 1578.86 nm :"
   ]
  },
  {
   "cell_type": "code",
   "execution_count": null,
   "id": "72127b42",
   "metadata": {},
   "outputs": [
    {
     "name": "stdout",
     "output_type": "stream",
     "text": [
      "Matrix shape : (3290, 304) \n",
      "\n",
      "Values :\n",
      " [[0.16662729 0.1585196  0.1559744  ... 0.13517365 0.13563527 0.13972704]\n",
      " [0.1636377  0.1553238  0.15331706 ... 0.13847885 0.13837484 0.14057837]\n",
      " [0.16363361 0.15713747 0.15198661 ... 0.13893017 0.14200945 0.14185262]\n",
      " ...\n",
      " [0.09804436 0.09318689 0.09436197 ... 0.09652922 0.09686357 0.09739467]\n",
      " [0.09974795 0.09565569 0.09677351 ... 0.09512292 0.09482779 0.09584713]\n",
      " [0.10559211 0.10132907 0.09936319 ... 0.09507068 0.09448478 0.09436557]]\n"
     ]
    }
   ],
   "source": [
    "## Create a reflectance matrix at 1578.86 nm :\n",
    "index = WV.index(1578.86)\n",
    "matrix = M3_IMAGE[index]\n",
    "\n",
    "## Save the reflectance matrix :\n",
    "print('Matrix shape :', matrix.shape,'\\n\\nValues :\\n' , matrix)\n",
    "Matrixfilepath = os.path.join(Matrixfolderpath,RFLfile_name)\n",
    "np.savetxt(Matrixfilepath, matrix)"
   ]
  },
  {
   "cell_type": "markdown",
   "id": "c959d5bc",
   "metadata": {},
   "source": [
    "<a id=\"5.4\"></a>\n",
    "### 5.4. Read the file obtained :"
   ]
  },
  {
   "cell_type": "code",
   "execution_count": null,
   "id": "109da6f5",
   "metadata": {},
   "outputs": [
    {
     "name": "stdout",
     "output_type": "stream",
     "text": [
      "Matrix shape : (3290, 304) \n",
      "\n",
      "Minimum : 49.59186539053917\n",
      "Maximum : 260.9294354915619\n",
      "Mean : 117.97572038416669 \n",
      "\n",
      "Values :\n",
      " [[166.62728786 158.51959586 155.97440302 ... 135.1736486  135.63527167\n",
      "  139.72704113]\n",
      " [163.6376977  155.32380342 153.31706405 ... 138.47884536 138.37483525\n",
      "  140.57837427]\n",
      " [163.63361478 157.13746846 151.98661387 ... 138.93017173 142.00945199\n",
      "  141.85261726]\n",
      " ...\n",
      " [ 98.04435819  93.18689257  94.36196834 ...  96.52922302  96.86356783\n",
      "   97.39466757]\n",
      " [ 99.74794835  95.65568715  96.77350521 ...  95.12291849  94.82779354\n",
      "   95.84712982]\n",
      " [105.59210926 101.32906586  99.36319292 ...  95.07067502  94.48478371\n",
      "   94.36556697]]\n"
     ]
    }
   ],
   "source": [
    "## Read the file, to check and have the good values (*1000) :\n",
    "Matrixfilepath_RFL = os.path.join(Matrixfolderpath,RFLfile_name)\n",
    "\n",
    "# we multiply the values by 1000 because the image takes values between 255 and 0 :\n",
    "matrix_RFL = 1000*np.loadtxt(Matrixfilepath_RFL)\n",
    "\n",
    "# Caracteristics of the matrix :\n",
    "print('Matrix shape :', matrix_RFL.shape,'\\n')\n",
    "print(\"Minimum :\", matrix_RFL.min()) \n",
    "print(\"Maximum :\", matrix_RFL.max())\n",
    "print(\"Mean :\", matrix_RFL.mean(),'\\n')\n",
    "print(\"Values :\\n\" , matrix_RFL)"
   ]
  },
  {
   "cell_type": "markdown",
   "id": "c265f701",
   "metadata": {},
   "source": [
    "<a id=\"6\"></a>\n",
    "## 6. Derive the Band Depth (BD)\n"
   ]
  },
  {
   "cell_type": "code",
   "execution_count": null,
   "id": "4a1eca26",
   "metadata": {},
   "outputs": [
    {
     "data": {
      "image/png": "[encoded data removed]",
      "text/plain": [
       "<Figure size 432x288 with 1 Axes>"
      ]
     },
     "metadata": {
      "needs_background": "light"
     },
     "output_type": "display_data"
    }
   ],
   "source": [
    "## Plot a continuum spectrum :\n",
    "\n",
    "X,Y = 100,100\n",
    "\n",
    "# Tie points at 730.48nm and 1618.79nm\n",
    "TP1 = 730.48\n",
    "TP2 = 1618.79\n",
    "\n",
    "# 1st try : the continuum is a straight line between TP1 = 730.48nm and TP2 = 1618.79nm :\n",
    "# Entry variable : WV  wavelength ; x,y position of the pixel\n",
    "# Return : the continuum function (affine function) value at WV\n",
    "def continuum_1(WV, x, y):\n",
    "  # Find the correct reflectance at TP1 and TP2 :\n",
    "  rfl_TP1 = wvl2rfl(TP1, x, y)\n",
    "  rfl_TP2 = wvl2rfl(TP2, x, y)\n",
    "  return (rfl_TP2 - rfl_TP1)/(TP2-TP1)*(WV - TP1) + rfl_TP1 #+ 0.005\n",
    "\n",
    "# Plot the continuum and the reflectance :\n",
    "Continuum = [continuum_1(wv, X, Y) for wv in WV_no_error]\n",
    "plt.plot(WV_no_error , RFL_no_error)\n",
    "plt.plot(WV_no_error , Continuum)\n",
    "plt.xlabel('Wavelengths (nm)')\n",
    "plt.ylabel('Reflectance (%)')\n",
    "plt.legend([\"original spectrum\", \"continuum\"],loc=(1.04,0))\n",
    "plt.show()"
   ]
  },
  {
   "cell_type": "code",
   "execution_count": null,
   "id": "1aa2c277",
   "metadata": {},
   "outputs": [
    {
     "data": {
      "image/png": "[encoded data removed]",
      "text/plain": [
       "<Figure size 432x288 with 1 Axes>"
      ]
     },
     "metadata": {
      "needs_background": "light"
     },
     "output_type": "display_data"
    }
   ],
   "source": [
    "## Plot a normalized spectrum :\n",
    "\n",
    "def norm_rfl(wv, x, y) :\n",
    "  return wvl2rfl(wv, x, y)/continuum_1(wv, x, y)\n",
    "\n",
    "\n",
    "Normalized_Rfl = [norm_rfl(wv, X, Y) for wv in WV_no_error]\n",
    "Continuum = [1 for wv in WV_no_error]\n",
    "plt.plot(WV_no_error , Normalized_Rfl)\n",
    "plt.plot(WV_no_error , Continuum)\n",
    "plt.xlabel('Wavelengths (nm)')\n",
    "plt.ylabel('Normalized reflectance (%)')\n",
    "plt.legend([\"continuum removed spectrum\", \"continuum\"],loc=(1.04,0))\n",
    "plt.show()"
   ]
  },
  {
   "cell_type": "code",
   "execution_count": null,
   "id": "774b59a1",
   "metadata": {},
   "outputs": [
    {
     "data": {
      "image/png": "[encoded data removed]",
      "text/plain": [
       "<Figure size 432x288 with 1 Axes>"
      ]
     },
     "metadata": {
      "needs_background": "light"
     },
     "output_type": "display_data"
    }
   ],
   "source": [
    "## Calculate the Band Depth at a given wavelength:\n",
    "\n",
    "# Entry variable : wavelength wv, x, y position of the pixel.\n",
    "# Return : band depth with respect to the continuum\n",
    "def band_depth (wv, x, y) :\n",
    "  return 1 - norm_rfl(wv, x, y)\n",
    "\n",
    "# Plot the Band Depth at each wavelength\n",
    "BD = [band_depth (wv, X, Y) for wv in WV_no_error ]\n",
    "zeros = [0 for wv in WV_no_error ]\n",
    "plt.plot(WV_no_error , BD)\n",
    "plt.plot(WV_no_error, zeros)\n",
    "plt.xlabel('Wavelengths (nm)')\n",
    "plt.ylabel('Band Depths')\n",
    "plt.show()"
   ]
  },
  {
   "cell_type": "markdown",
   "id": "512a4481",
   "metadata": {},
   "source": [
    "<a id=\"7\"></a>\n",
    "## 7. Derive the Integrated Band Depth (IBD)"
   ]
  },
  {
   "cell_type": "code",
   "execution_count": null,
   "id": "174a213b",
   "metadata": {},
   "outputs": [],
   "source": [
    "## Calculate the Integrated Band Depth of a wavelength interval :\n",
    "\n",
    "# Entry variable : wv_min and wv_max, max and min of the wavelength interval, x, y position of the pixel.\n",
    "# Return : integrated band depth\n",
    "def IBD(wv_min, wv_max, x, y) :\n",
    "  IBD = 0\n",
    "  i_min = WV_no_error.index(wv_min)\n",
    "  i_max = WV_no_error.index(wv_max)\n",
    "  for i in range (i_min, i_max + 1) :\n",
    "    IBD += band_depth(WV_no_error[i], x , y)\n",
    "  return IBD"
   ]
  },
  {
   "cell_type": "markdown",
   "id": "8a49b71d",
   "metadata": {},
   "source": [
    "<a id=\"8\"></a>\n",
    "## 8. Write and save IBD1000 and IBD2000 matrix"
   ]
  },
  {
   "cell_type": "markdown",
   "id": "4c6709e9",
   "metadata": {},
   "source": [
    "<a id=\"8.1\"></a>\n",
    "### 8.1. Define IBD1000 and IBD2000 :"
   ]
  },
  {
   "cell_type": "code",
   "execution_count": null,
   "id": "7c53e3da",
   "metadata": {},
   "outputs": [
    {
     "name": "stdout",
     "output_type": "stream",
     "text": [
      "Pixel (100, 100)\n",
      "IBD1000 between 790.37 and 1309.38nm : -0.30392074019737325\n",
      "IBD2000 between 1658.71 and 2497.11nm : 1.3265488705302244\n"
     ]
    }
   ],
   "source": [
    "## IBD 1micron and IBD 2micron are the most interesting IBD.\n",
    "## We want to create an RGB with IBD1000 and IBD2000\n",
    "\n",
    "IBD1000_WV_min = 790.37\n",
    "IBD1000_WV_max = 1309.38\n",
    "print(\"Pixel\",(X,Y))\n",
    "print('IBD1000 between 790.37 and 1309.38nm :', IBD(IBD1000_WV_min,IBD1000_WV_max, X, Y) )\n",
    "\n",
    "IBD2000_WV_min = 1658.71\n",
    "IBD2000_WV_max = 2497.11\n",
    "print('IBD2000 between 1658.71 and 2497.11nm :', IBD(IBD2000_WV_min,IBD2000_WV_max, X, Y) )"
   ]
  },
  {
   "cell_type": "code",
   "execution_count": null,
   "id": "815a6b76",
   "metadata": {},
   "outputs": [],
   "source": [
    "## Function that creates an array with IBD calculated for each pixel :\n",
    "\n",
    "# Entry : minimum and maximum wavelengths of IBD\n",
    "# Return : IBD array\n",
    "def IBD_array(wv_min,wv_max):\n",
    "  array = np.zeros((lines, rows))\n",
    "  for X in range(lines):   # X goes from 0 to 759\n",
    "    for Y in range(rows):  # Y goes from 0 to 303 \n",
    "      array[X][Y] = IBD(wv_min, wv_max, X, Y)\n",
    "      #print(X ,Y, array[X][Y])\n",
    "  return array"
   ]
  },
  {
   "cell_type": "markdown",
   "id": "b446eb69",
   "metadata": {},
   "source": [
    "<a id=\"8.2\"></a>\n",
    "### 8.2. Create an IBD1000 matrix :\n",
    "This section takes ~10min to run - if you haven't created a matrix before. Otherwise, run the next section (8.3)."
   ]
  },
  {
   "cell_type": "code",
   "execution_count": null,
   "id": "c2776563",
   "metadata": {},
   "outputs": [
    {
     "name": "stdout",
     "output_type": "stream",
     "text": [
      "Matrix shape : (3290, 304) \n",
      "\n",
      "Values :\n",
      " [[-0.32291846  0.20792272 -0.45644975 ... -0.46386382 -0.35108842\n",
      "  -0.39853532]\n",
      " [-0.43097806  0.21402772 -0.48191977 ... -0.43976493 -0.33301011\n",
      "  -0.46792364]\n",
      " [-0.41626897 -0.23434068 -0.49478706 ... -0.42407879 -0.37266828\n",
      "  -0.53751242]\n",
      " ...\n",
      " [-0.23563291 -0.15900993  0.18649241 ...  0.19765518  0.41278489\n",
      "   0.66981661]\n",
      " [ 0.06990653 -0.06017663  0.05865205 ...  0.02644961  0.42277052\n",
      "   0.67116367]\n",
      " [ 0.06029457 -0.04339003  0.21916622 ...  0.17519427  0.57666524\n",
      "   0.71480481]]\n"
     ]
    }
   ],
   "source": [
    "## Create and Save the IBD file :\n",
    "matrix_1000 = IBD_array(IBD1000_WV_min, IBD1000_WV_max)\n",
    "print('Matrix shape :', matrix_1000.shape,'\\n\\nValues :\\n' , matrix_1000)\n",
    "Matrixfilepath = os.path.join(Matrixfolderpath,IBD1000file_name)\n",
    "np.savetxt(Matrixfilepath, matrix_1000)"
   ]
  },
  {
   "cell_type": "markdown",
   "id": "636a7ed3",
   "metadata": {},
   "source": [
    "<a id=\"8.3\"></a>\n",
    "### 8.3. Read the IBD1000 matrix :"
   ]
  },
  {
   "cell_type": "code",
   "execution_count": null,
   "id": "a77ec4ec",
   "metadata": {},
   "outputs": [
    {
     "name": "stdout",
     "output_type": "stream",
     "text": [
      "Matrix name : M3G20090718T054612_IBD1000.txt\n",
      "Matrix shape : (3290, 304) \n",
      "\n",
      "Minimum : -194.44268062935447\n",
      "Maximum : 406.60863279729637\n",
      "Mean : -15.426229965855406 \n",
      "\n",
      "Values :\n",
      " [[-32.29184646  20.79227219 -45.64497467 ... -46.38638192 -35.10884155\n",
      "  -39.85353247]\n",
      " [-43.09780649  21.40277157 -48.19197696 ... -43.97649342 -33.30101087\n",
      "  -46.79236405]\n",
      " [-41.62689689 -23.43406787 -49.47870576 ... -42.40787852 -37.2668276\n",
      "  -53.75124176]\n",
      " ...\n",
      " [-23.56329072 -15.90099255  18.64924133 ...  19.76551818  41.27848906\n",
      "   66.98166071]\n",
      " [  6.99065326  -6.0176634    5.86520534 ...   2.64496142  42.27705229\n",
      "   67.11636657]\n",
      " [  6.02945694  -4.33900337  21.91662223 ...  17.51942686  57.66652437\n",
      "   71.48048121]]\n"
     ]
    }
   ],
   "source": [
    "## Read the file, to check and have the good values (*100) :\n",
    "Matrixfilepath_IBD1000 = os.path.join(Matrixfolderpath,IBD1000file_name)\n",
    "print(\"Matrix name :\", IBD1000file_name)\n",
    "\n",
    "# We multiply the values by 1000 because the image takes values between 255 and 0 :\n",
    "matrix_IBD1000 = 100*np.loadtxt(Matrixfilepath_IBD1000)\n",
    "\n",
    "# Caracteristics of the matrix :\n",
    "print('Matrix shape :', matrix_IBD1000.shape,'\\n')\n",
    "print(\"Minimum :\", matrix_IBD1000.min()) \n",
    "print(\"Maximum :\", matrix_IBD1000.max())\n",
    "print(\"Mean :\", matrix_IBD1000.mean(),'\\n')\n",
    "print(\"Values :\\n\" , matrix_IBD1000)"
   ]
  },
  {
   "cell_type": "markdown",
   "id": "617bf51e",
   "metadata": {},
   "source": [
    "<a id=\"8.4\"></a>\n",
    "### 8.4. Create an IBD2000 matrix :\n",
    "This section takes ~10min to run - if you haven't created a matrix before. Otherwise, run the next section (8.5)."
   ]
  },
  {
   "cell_type": "code",
   "execution_count": null,
   "id": "9723e3e9",
   "metadata": {},
   "outputs": [
    {
     "name": "stdout",
     "output_type": "stream",
     "text": [
      "Matrix shape : (3290, 304) \n",
      "\n",
      "Values :\n",
      " [[1.40090924 1.18986287 1.22867634 ... 0.97109886 0.94571946 0.88767423]\n",
      " [1.41321432 1.14992063 1.20699287 ... 0.99040584 0.99323688 0.96381984]\n",
      " [1.26141951 1.19700815 1.19678706 ... 1.03692841 0.93468396 0.91408416]\n",
      " ...\n",
      " [0.88177253 1.15384047 1.37963804 ... 0.75632982 0.63203548 0.5065165 ]\n",
      " [0.62410795 1.15438532 1.21754587 ... 0.60161466 0.75108125 0.54221896]\n",
      " [0.46482323 1.16456411 1.27644133 ... 0.7009452  1.03714045 0.7611164 ]]\n"
     ]
    }
   ],
   "source": [
    "## Create and Save the IBD file :\n",
    "matrix_2000 = IBD_array(IBD2000_WV_min, IBD2000_WV_max)\n",
    "print('Matrix shape :', matrix_2000.shape,'\\n\\nValues :\\n' , matrix_2000)\n",
    "Matrixfilepath = os.path.join(Matrixfolderpath,IBD2000file_name)\n",
    "np.savetxt(Matrixfilepath, matrix_2000)"
   ]
  },
  {
   "cell_type": "markdown",
   "id": "50da86ba",
   "metadata": {},
   "source": [
    "<a id=\"8.5\"></a>\n",
    "### 8.5. Read the IBD2000 matrix :"
   ]
  },
  {
   "cell_type": "code",
   "execution_count": null,
   "id": "71ff8648",
   "metadata": {},
   "outputs": [
    {
     "name": "stdout",
     "output_type": "stream",
     "text": [
      "Matrix name : M3G20090718T054612_IBD2000.txt\n",
      "Matrix shape : (3290, 304) \n",
      "\n",
      "Minimum : -169.08515924920474\n",
      "Maximum : 361.57108557176196\n",
      "Mean : 70.83855587569681 \n",
      "\n",
      "Values :\n",
      " [[140.09092384 118.98628698 122.86763419 ...  97.1098863   94.57194624\n",
      "   88.76742306]\n",
      " [141.32143232 114.99206346 120.699287   ...  99.04058371  99.3236884\n",
      "   96.38198384]\n",
      " [126.14195124 119.70081482 119.67870605 ... 103.69284115  93.46839601\n",
      "   91.40841644]\n",
      " ...\n",
      " [ 88.17725272 115.38404702 137.96380406 ...  75.63298163  63.20354772\n",
      "   50.65165025]\n",
      " [ 62.41079539 115.43853205 121.75458663 ...  60.16146629  75.10812476\n",
      "   54.22189564]\n",
      " [ 46.48232288 116.45641082 127.64413323 ...  70.0945202  103.71404466\n",
      "   76.11163967]]\n"
     ]
    }
   ],
   "source": [
    "## Read the file, to check and have the good values (*100) :\n",
    "Matrixfilepath_IBD2000 = os.path.join(Matrixfolderpath,IBD2000file_name)\n",
    "print(\"Matrix name :\", IBD2000file_name)\n",
    "\n",
    "# We multiply the values by 1000 because the image takes values between 255 and 0 :\n",
    "matrix_IBD2000 = 100*np.loadtxt(Matrixfilepath_IBD2000)\n",
    "\n",
    "# Caracteristics of the matrix :\n",
    "print('Matrix shape :', matrix_IBD2000.shape,'\\n')\n",
    "print(\"Minimum :\", matrix_IBD2000.min()) \n",
    "print(\"Maximum :\", matrix_IBD2000.max())\n",
    "print(\"Mean :\", matrix_IBD2000.mean(),'\\n')\n",
    "print(\"Values :\\n\" , matrix_IBD2000)"
   ]
  },
  {
   "cell_type": "markdown",
   "id": "471c27fe",
   "metadata": {},
   "source": [
    "<a id=\"9\"></a>\n",
    "## 9. Generate the rasters"
   ]
  },
  {
   "cell_type": "markdown",
   "id": "3ef19e75",
   "metadata": {},
   "source": [
    "<a id=\"9.1\"></a>\n",
    "### 9.1. Functions we will use :"
   ]
  },
  {
   "cell_type": "code",
   "execution_count": null,
   "id": "6e9dd889",
   "metadata": {},
   "outputs": [
    {
     "name": "stdout",
     "output_type": "stream",
     "text": [
      "Origin of the raster (bottom-left corner):\n",
      "(long,lat) = (-161.55197855827376, -44.099489016085506) degrees\n",
      "(X,Y) = (-4895100.791589694, -1336235.219882954) meters\n"
     ]
    }
   ],
   "source": [
    "## Function that calculates, in meters, \n",
    "## the (X (west to east) , Y (south to north)) coordinates when given latitude, longitude and altitude.\n",
    "def XY_coord(long, lat, rad):\n",
    "  long, lat = goodmodulo(long,lat)\n",
    "  X = math.radians(long) * rad\n",
    "  Y = math.radians(lat) * rad\n",
    "  return X,Y\n",
    "\n",
    "print(\"Origin of the raster (bottom-left corner):\\n(long,lat) =\", goodmodulo(LONG[-1][0],LAT[-1][0]),\"degrees\")\n",
    "print(\"(X,Y) =\",XY_coord(LONG[-1][0],LAT[-1][0],RAD[-1][0]), 'meters')\n"
   ]
  },
  {
   "cell_type": "code",
   "execution_count": null,
   "id": "cbe526b7",
   "metadata": {},
   "outputs": [
    {
     "name": "stdout",
     "output_type": "stream",
     "text": [
      "Shape : (3290, 304) \n",
      "\n",
      "(X,Y) location of each pixel :\n",
      " [[(-4901722,  -851379) (-4901362,  -851391) (-4901006,  -851404) ...\n",
      "  (-4817780,  -853602) (-4817439,  -853583) (-4817132,  -853569)]\n",
      " [(-4901723,  -851527) (-4901367,  -851540) (-4901022,  -851554) ...\n",
      "  (-4817762,  -853747) (-4817427,  -853729) (-4817121,  -853715)]\n",
      " [(-4901724,  -851675) (-4901376,  -851689) (-4901034,  -851704) ...\n",
      "  (-4817750,  -853893) (-4817420,  -853876) (-4817116,  -853862)]\n",
      " ...\n",
      " [(-4895226, -1335975) (-4894979, -1336025) (-4894737, -1336077) ...\n",
      "  (-4778494, -1333398) (-4778015, -1333352) (-4777487, -1333294)]\n",
      " [(-4895162, -1336104) (-4894925, -1336158) (-4894687, -1336211) ...\n",
      "  (-4778532, -1333556) (-4778034, -1333506) (-4777489, -1333444)]\n",
      " [(-4895100, -1336235) (-4894869, -1336290) (-4894633, -1336343) ...\n",
      "  (-4778553, -1333710) (-4778049, -1333658) (-4777495, -1333594)]]\n"
     ]
    }
   ],
   "source": [
    "## Create a matrix with the tuple (X,Y) information of each pixel :\n",
    "\n",
    "def raster_XY_cood(lon, lat, rad):\n",
    "  rows = lon.shape[0]\n",
    "  cols = lon.shape[1]\n",
    "  rasterXY = np.zeros((rows,cols), dtype = 'i,i')\n",
    "  for i in range (rows):\n",
    "    for j in range (cols):\n",
    "      rasterXY[i][j] = XY_coord(lon[i][j],lat[i][j],rad[i][j])\n",
    "  return rasterXY\n",
    "\n",
    "print('Shape :',raster_XY_cood(LONG, LAT, RAD).shape, '\\n\\n(X,Y) location of each pixel :\\n', raster_XY_cood(LONG, LAT, RAD))"
   ]
  },
  {
   "cell_type": "code",
   "execution_count": null,
   "id": "310f5884",
   "metadata": {},
   "outputs": [],
   "source": [
    "## Create a raster from an array :\n",
    "\n",
    "def array2raster(newRaster_filename,rasterOrigin,pixelWidth, pixelHeight,array):\n",
    "\n",
    "  # Set the size and origin of the raster :\n",
    "  originX = rasterOrigin[0]\n",
    "  originY = rasterOrigin[1]\n",
    "\n",
    "  # Create a '.tif' raster :\n",
    "  driver = gdal.GetDriverByName('GTiff')\n",
    "  outRaster = driver.Create(newRaster_filename, cols, rows, 1, gdal.GDT_Byte)\n",
    "\n",
    "  # Set the geotransformation :\n",
    "  outRaster.SetGeoTransform((originX, pixelWidth, 0, originY, 0, pixelHeight))\n",
    "\n",
    "  # For each pixel I know it's latitude and longitude.\n",
    "  # As you'll see below you only really need the coordinates of\n",
    "  # one corner, and the resolution of the file.\n",
    "  # geotransform = (xmin,xres,0,ymax,0, -yres)   \n",
    "  # That's (top left x, w-e pixel resolution, rotation (0 if North is up), \n",
    "  #         top left y, rotation (0 if North is up), n-s pixel resolution)\n",
    "\n",
    "  # Write raster data sets :\n",
    "  outband = outRaster.GetRasterBand(1)\n",
    "  outband.WriteArray(array)\n",
    "\n",
    "  return outRaster\n"
   ]
  },
  {
   "cell_type": "markdown",
   "id": "79828af4",
   "metadata": {},
   "source": [
    "<a id=\"9.2\"></a>\n",
    "### 9.2. Generate the reflectance 1580nm raster :"
   ]
  },
  {
   "cell_type": "code",
   "execution_count": null,
   "id": "6dfac153",
   "metadata": {},
   "outputs": [
    {
     "name": "stdout",
     "output_type": "stream",
     "text": [
      "File path : /Users/ines.torres/Desktop/Apollo_Basin/jupyter_notebook/generated_rasters/M3G20090718T054612_RFL1580.tif\n",
      "\n",
      "Origin of the raster (bottom-left) :\n",
      " (-4906534.791589694, -1341286.219882954) meters\n",
      " (-161.92933244769907, -44.26618610332421) degrees\n",
      "\n",
      "Corners of the image :\n",
      "South-East (-4895100.791589694, -1336235.219882954) (origin)\n",
      "North-East  (-4817132.616361884, -853569.542295828)\n",
      "\n",
      "Pixel Height : 256.47426061779504 meters\n",
      "Pixel Width : 146.7068928836249 meters\n"
     ]
    }
   ],
   "source": [
    "# raster file path :\n",
    "Rasterfile_name = file+'_RFL1580.tif' #\"M3G20090718T054612_RFL1580.tif\"\n",
    "newRaster_filename = os.path.join(Rasterfolderpath,Rasterfile_name)\n",
    "print('File path :', newRaster_filename)\n",
    "\n",
    "# reverse the array so the tif looks like the array :\n",
    "array = matrix_RFL[::-1]\n",
    "\n",
    "# origin at the corner down-left of the raster (the LONG, LAT and RAD arrays are not reversed):\n",
    "rasterOrigin = XY_coord(LONG[-1][0],LAT[-1][0],RAD[-1][0])\n",
    "# manual offset to correct the ArcGIS location\n",
    "rasterOrigin =  rasterOrigin[0]-11434, rasterOrigin[1]-5051   #-11000 and -4000 before\n",
    "\n",
    "#in degrees, to check :\n",
    "longitude = (rasterOrigin[0]/RAD[-1][0])*180/math.pi\n",
    "latitude = (rasterOrigin[1]/RAD[-1][0])*180/math.pi\n",
    "print('\\nOrigin of the raster (bottom-left) :\\n', rasterOrigin,'meters\\n' ,(longitude, latitude),'degrees' )\n",
    "\n",
    "# location of the corners of the image :\n",
    "SWCorner = XY_coord(LONG[-1][0],LAT[-1][0],RAD[-1][0]) #minimum longitude, minimum latitude\n",
    "NECorner = XY_coord(LONG[0][-1],LAT[0][-1],RAD[0][-1]) #maximum longitude, maximum latitude\n",
    "xmin,xmax,ymin,ymax = [SWCorner[0],NECorner[0],SWCorner[1],NECorner[1]]\n",
    "print('\\nCorners of the image :\\nSouth-East', SWCorner, '(origin)\\nNorth-East ', NECorner)\n",
    "\n",
    "# pixel Height and Width :\n",
    "cols = array.shape[1]\n",
    "rows = array.shape[0]\n",
    "pixelWidth = (xmax-xmin)/cols\n",
    "pixelHeight = (ymax-ymin)/rows\n",
    "print('\\nPixel Height :', pixelWidth, 'meters\\nPixel Width :', pixelHeight, 'meters')\n",
    "\n",
    "result_array = array2raster(newRaster_filename, rasterOrigin, pixelWidth, pixelHeight, array)"
   ]
  },
  {
   "cell_type": "markdown",
   "id": "66b04ea5",
   "metadata": {},
   "source": [
    "<a id=\"9.3\"></a>\n",
    "### 9.3. Generate the IBD1000 raster :"
   ]
  },
  {
   "cell_type": "code",
   "execution_count": null,
   "id": "31530dbc",
   "metadata": {},
   "outputs": [
    {
     "name": "stdout",
     "output_type": "stream",
     "text": [
      "File path : /Users/ines.torres/Desktop/Apollo_Basin/jupyter_notebook/generated_rasters/M3G20090718T054612_IBD1000.tif\n",
      "\n",
      "Origin of the raster (bottom-left) :\n",
      " (-4906534.791589694, -1341286.219882954) meters\n",
      " (-161.92933244769907, -44.26618610332421) degrees\n",
      "\n",
      "Corners of the image :\n",
      "South-East (-4895100.791589694, -1336235.219882954) (origin)\n",
      "North-East  (-4817132.616361884, -853569.542295828)\n",
      "\n",
      "Pixel Height : 256.47426061779504 meters\n",
      "Pixel Width : 146.7068928836249 meters\n"
     ]
    }
   ],
   "source": [
    "# raster file path :\n",
    "Rasterfile_name = file+'_IBD1000.tif' #\"M3G20090718T054612_IBD1000.tif\"\n",
    "newRaster_filename = os.path.join(Rasterfolderpath,Rasterfile_name)\n",
    "print('File path :', newRaster_filename)\n",
    "\n",
    "# reverse the array so the tif looks like the array :\n",
    "array = matrix_IBD1000[::-1]\n",
    "\n",
    "# origin at the corner down-left of the raster (the LONG, LAT and RAD arrays are not reversed):\n",
    "rasterOrigin = XY_coord(LONG[-1][0],LAT[-1][0],RAD[-1][0])\n",
    "# manual offset to correct the ArcGIS location\n",
    "rasterOrigin =  rasterOrigin[0]-11434, rasterOrigin[1]-5051   #-11000 and -4000 before\n",
    "\n",
    "#in degrees, to check :\n",
    "longitude = (rasterOrigin[0]/RAD[-1][0])*180/math.pi\n",
    "latitude = (rasterOrigin[1]/RAD[-1][0])*180/math.pi\n",
    "print('\\nOrigin of the raster (bottom-left) :\\n', rasterOrigin,'meters\\n' ,(longitude, latitude),'degrees' )\n",
    "\n",
    "# location of the corners of the image :\n",
    "SWCorner = XY_coord(LONG[-1][0],LAT[-1][0],RAD[-1][0]) #minimum longitude, minimum latitude\n",
    "NECorner = XY_coord(LONG[0][-1],LAT[0][-1],RAD[0][-1]) #maximum longitude, maximum latitude\n",
    "xmin,xmax,ymin,ymax = [SWCorner[0],NECorner[0],SWCorner[1],NECorner[1]]\n",
    "print('\\nCorners of the image :\\nSouth-East', SWCorner, '(origin)\\nNorth-East ', NECorner)\n",
    "\n",
    "# pixel Height and Width :\n",
    "cols = array.shape[1]\n",
    "rows = array.shape[0]\n",
    "pixelWidth = (xmax-xmin)/cols\n",
    "pixelHeight = (ymax-ymin)/rows\n",
    "print('\\nPixel Height :', pixelWidth, 'meters\\nPixel Width :', pixelHeight, 'meters')\n",
    "\n",
    "result_array = array2raster(newRaster_filename, rasterOrigin, pixelWidth, pixelHeight, array)"
   ]
  },
  {
   "cell_type": "markdown",
   "id": "0fd61f10",
   "metadata": {},
   "source": [
    "<a id=\"9.4\"></a>\n",
    "### 9.4. Generate the IBD2000 raster :"
   ]
  },
  {
   "cell_type": "code",
   "execution_count": null,
   "id": "3f7ab13f",
   "metadata": {},
   "outputs": [
    {
     "name": "stdout",
     "output_type": "stream",
     "text": [
      "File path : /Users/ines.torres/Desktop/Apollo_Basin/jupyter_notebook/generated_rasters/M3G20090718T054612_IBD2000.tif\n",
      "\n",
      "Origin of the raster (bottom-left) :\n",
      " (-4906534.791589694, -1341286.219882954) meters\n",
      " (-161.92933244769907, -44.26618610332421) degrees\n",
      "\n",
      "Corners of the image :\n",
      "South-East (-4895100.791589694, -1336235.219882954) (origin)\n",
      "North-East  (-4817132.616361884, -853569.542295828)\n",
      "\n",
      "Pixel Height : 256.47426061779504 meters\n",
      "Pixel Width : 146.7068928836249 meters\n"
     ]
    }
   ],
   "source": [
    "# raster file path :\n",
    "Rasterfile_name = file+'_IBD2000.tif' #\"M3G20090718T054612_IBD2000.tif\"\n",
    "newRaster_filename = os.path.join(Rasterfolderpath,Rasterfile_name)\n",
    "print('File path :', newRaster_filename)\n",
    "\n",
    "# reverse the array so the tif looks like the array :\n",
    "array = matrix_IBD2000[::-1]\n",
    "\n",
    "# origin at the corner down-left of the raster (the LONG, LAT and RAD arrays are not reversed):\n",
    "rasterOrigin = XY_coord(LONG[-1][0],LAT[-1][0],RAD[-1][0])\n",
    "# manual offset to correct the ArcGIS location\n",
    "rasterOrigin =  rasterOrigin[0]-11434, rasterOrigin[1]-5051   #-11000 and -4000 before\n",
    "\n",
    "#in degrees, to check :\n",
    "longitude = (rasterOrigin[0]/RAD[-1][0])*180/math.pi\n",
    "latitude = (rasterOrigin[1]/RAD[-1][0])*180/math.pi\n",
    "print('\\nOrigin of the raster (bottom-left) :\\n', rasterOrigin,'meters\\n' ,(longitude, latitude),'degrees' )\n",
    "\n",
    "# location of the corners of the image :\n",
    "SWCorner = XY_coord(LONG[-1][0],LAT[-1][0],RAD[-1][0]) #minimum longitude, minimum latitude\n",
    "NECorner = XY_coord(LONG[0][-1],LAT[0][-1],RAD[0][-1]) #maximum longitude, maximum latitude\n",
    "xmin,xmax,ymin,ymax = [SWCorner[0],NECorner[0],SWCorner[1],NECorner[1]]\n",
    "print('\\nCorners of the image :\\nSouth-East', SWCorner, '(origin)\\nNorth-East ', NECorner)\n",
    "\n",
    "# pixel Height and Width :\n",
    "cols = array.shape[1]\n",
    "rows = array.shape[0]\n",
    "pixelWidth = (xmax-xmin)/cols\n",
    "pixelHeight = (ymax-ymin)/rows\n",
    "print('\\nPixel Height :', pixelWidth, 'meters\\nPixel Width :', pixelHeight, 'meters')\n",
    "\n",
    "result_array = array2raster(newRaster_filename, rasterOrigin, pixelWidth, pixelHeight, array)"
   ]
  },
  {
   "cell_type": "markdown",
   "id": "4724decf",
   "metadata": {},
   "source": [
    "<a id=\"9.5\"></a>\n",
    "### 9.5. Print the image obtained :"
   ]
  },
  {
   "cell_type": "code",
   "execution_count": null,
   "id": "17e5e731",
   "metadata": {},
   "outputs": [
    {
     "data": {
      "image/png": "[encoded data removed]",
      "text/plain": [
       "<Figure size 432x288 with 1 Axes>"
      ]
     },
     "metadata": {
      "needs_background": "light"
     },
     "output_type": "display_data"
    },
    {
     "name": "stdout",
     "output_type": "stream",
     "text": [
      "\n",
      "\n",
      "Matrix obtained:\n",
      " [[ 46 116 128 ...  70 104  76]\n",
      " [ 62 115 122 ...  60  75  54]\n",
      " [ 88 115 138 ...  76  63  51]\n",
      " ...\n",
      " [126 120 120 ... 104  93  91]\n",
      " [141 115 121 ...  99  99  96]\n",
      " [140 119 123 ...  97  95  89]]\n"
     ]
    }
   ],
   "source": [
    "## Read the image obtained :\n",
    "import matplotlib.pyplot as plt\n",
    "import matplotlib.image as mpimg\n",
    "\n",
    "# name of the file :\n",
    "Rasterfile_name = file+'_RFL1580.tif'#\"M3G20090718T054612_IBD2000.tif\"\n",
    "newRaster_filename = os.path.join(Rasterfolderpath,Rasterfile_name)\n",
    "img=mpimg.imread(newRaster_filename)\n",
    "\n",
    "plt.imshow(img[::-1])\n",
    "plt.title('Image obtained')\n",
    "plt.show()\n",
    "\n",
    "## Read the matrix obtained :\n",
    "result_band = result_array.GetRasterBand(1)\n",
    "result_band = result_band.ReadAsArray()\n",
    "print('\\n\\nMatrix obtained:\\n',result_band)"
   ]
  },
  {
   "cell_type": "markdown",
   "id": "f6507a6f",
   "metadata": {},
   "source": [
    "# The End :)"
   ]
  }
 ],
 "metadata": {
  "kernelspec": {
   "display_name": "m3-repo",
   "language": "python",
   "name": "python3"
  },
  "language_info": {
   "codemirror_mode": {
    "name": "ipython",
    "version": 3
   },
   "file_extension": ".py",
   "mimetype": "text/x-python",
   "name": "python",
   "nbconvert_exporter": "python",
   "pygments_lexer": "ipython3",
   "version": "3.9.16"
  },
  "vscode": {
   "interpreter": {
    "hash": "f8698e02f1e4103861072aa64ec95ccefe3d5d1c5e89ee7cded1403206d32360"
   }
  }
 },
 "nbformat": 4,
 "nbformat_minor": 5
}
